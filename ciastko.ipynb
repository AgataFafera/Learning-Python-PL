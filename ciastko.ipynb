{
 "cells": [
  {
   "cell_type": "code",
   "execution_count": 7,
   "id": "fbab0cd5-13dc-4f9b-8bf4-d1f800ea039c",
   "metadata": {},
   "outputs": [
    {
     "name": "stdout",
     "output_type": "stream",
     "text": [
      "Twoja wróżba na dziś to: Przygotuj się na kłopoty! Twój szczęśliwy numer to 135. Twoja szczęśliwa planeta to Saturn. \n"
     ]
    }
   ],
   "source": [
    "import random \n",
    "\n",
    "szczesliwy_numer = random.randint(1,500)\n",
    "\n",
    "wrozba_numer = random.randint(1,10)\n",
    "\n",
    "planeta_numer = random.randint(1,7)\n",
    "\n",
    "wrozba_tekst = ''\n",
    "\n",
    "planeta_tekst = ''\n",
    "\n",
    "if wrozba_numer == 1: \n",
    "    wrozba_tekst = \"Czeka cię udany dzień!\"\n",
    "    \n",
    "if wrozba_numer == 2: \n",
    "    wrozba_tekst = \"Przygotuj się na kłopoty!\"\n",
    "    \n",
    "if wrozba_numer == 3: \n",
    "    wrozba_tekst = \"Ktoś chce Cię oszukać!\"\n",
    "    \n",
    "if wrozba_numer == 4: \n",
    "    wrozba_tekst = \"Ktoś czeka na Ciebie, nie zwlekaj!\"\n",
    "    \n",
    "if wrozba_numer == 5: \n",
    "    wrozba_tekst = \"Zadbaj o siebie dzisiaj!\"\n",
    "    \n",
    "if wrozba_numer == 6: \n",
    "    wrozba_tekst = \"Będzie ciężko, ale czeka Cię nagroda!\"\n",
    "    \n",
    "if wrozba_numer == 7: \n",
    "    wrozba_tekst = \"Spodziewaj się niespodzianki!\"\n",
    "\n",
    "if wrozba_numer == 8: \n",
    "    wrozba_tekst = \"Nie poddawaj się pomimo początkowych trudności!\"\n",
    "    \n",
    "if wrozba_numer == 9: \n",
    "    wrozba_tekst = \"Nie odkładaj tego na potem!\"\n",
    "    \n",
    "if wrozba_numer == 10: \n",
    "    wrozba_tekst = \"Nie ma tego złego, co by na dobre nie wyszło!\"\n",
    "    \n",
    "\n",
    "    \n",
    "if planeta_numer == 1: \n",
    "    planeta_tekst = \"Merkury\" \n",
    "    \n",
    "if planeta_numer == 2: \n",
    "    planeta_tekst = \"Wenus\" \n",
    "    \n",
    "if planeta_numer == 3: \n",
    "    planeta_tekst = \"Mars\" \n",
    "    \n",
    "if planeta_numer == 4: \n",
    "    planeta_tekst = \"Jowisz\" \n",
    "    \n",
    "if planeta_numer == 5: \n",
    "    planeta_tekst = \"Saturn\" \n",
    "    \n",
    "if planeta_numer == 6: \n",
    "    planeta_tekst = \"Uran\" \n",
    "\n",
    "if planeta_numer == 7: \n",
    "    planeta_tekst = \"Neptun\" \n",
    "    \n",
    "    \n",
    "print(f\"Twoja wróżba na dziś to: {wrozba_tekst} Twój szczęśliwy numer to {szczesliwy_numer}. Twoja szczęśliwa planeta to {planeta_tekst}. \")"
   ]
  }
 ],
 "metadata": {
  "kernelspec": {
   "display_name": "Python 3 (ipykernel)",
   "language": "python",
   "name": "python3"
  },
  "language_info": {
   "codemirror_mode": {
    "name": "ipython",
    "version": 3
   },
   "file_extension": ".py",
   "mimetype": "text/x-python",
   "name": "python",
   "nbconvert_exporter": "python",
   "pygments_lexer": "ipython3",
   "version": "3.9.7"
  }
 },
 "nbformat": 4,
 "nbformat_minor": 5
}
